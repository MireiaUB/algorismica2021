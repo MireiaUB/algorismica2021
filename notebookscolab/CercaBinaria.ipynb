{
  "nbformat": 4,
  "nbformat_minor": 0,
  "metadata": {
    "colab": {
      "name": "Exemple.ipynb",
      "provenance": [],
      "collapsed_sections": []
    },
    "kernelspec": {
      "display_name": "Python 3",
      "language": "python",
      "name": "python3"
    },
    "language_info": {
      "codemirror_mode": {
        "name": "ipython",
        "version": 3
      },
      "file_extension": ".py",
      "mimetype": "text/x-python",
      "name": "python",
      "nbconvert_exporter": "python",
      "pygments_lexer": "ipython3",
      "version": "3.7.6"
    }
  },
  "cells": [
    {
      "cell_type": "markdown",
      "metadata": {
        "id": "t0YAlIry50Lm"
      },
      "source": [
        "\n",
        "<div id=\"capcalera\">\n",
        "<p><a href=\"https://colab.research.google.com/github/algorismica2020/algorismica2020.github.io/blob/master/notebookscolab/Exemple.ipynb\"><img style=\"margin:-10px 10px 20px 0\" width=\"150px\" align=\"right\" src=\"https://raw.githubusercontent.com/algorismica2019/problemes/master/assets/colab-badge.png?raw=1\" alt=\"Obrir a Colab\" title=\"Obrir i executar a Google Colaboratory\"></a></p>\n",
        "<p style=\"clear:both\"><img align='left' width=\"300px\" style=\"padding-right:10px;float=left\" src=\"https://raw.githubusercontent.com/algorismica2019/problemes/master/assets/al-khwarizmi.png\" >Aquest notebook complementa la teoria de l'assignatura d'<strong>Algorísmica</strong> del Grau d'Enginyeria Informàtica a la <a href=\"https://mat.ub.edu\">Facultat de Matemàtiques i Informàtica</a> de la <a href=\"https://www.ub.edu\">Universitat de Barcelona</a> impartida per <em>Jordi Vitrià</em> i <em>Mireia Ribera</em></p>\n",
        "\n",
        "<p>Els problemes s'ofereixen sota llicència <a href=\"https://creativecommons.org/licenses/by-nc-nd/3.0/us/legalcode\">CC-BY-NC-ND license</a>, i el codi sota <a href=\"https://opensource.org/licenses/MIT\">Llicència MIT</a>.</p>\n",
        "\n",
        "</div>"
      ]
    },
    {
      "cell_type": "markdown",
      "metadata": {
        "id": "B7NjZ5JB50Ln"
      },
      "source": [
        "# <span class=\"tema\">(Cerca)</span> Cerca binària "
      ]
    },
    {
      "cell_type": "markdown",
      "metadata": {
        "id": "0lGFKFwi50Lo"
      },
      "source": [
        "Aquest algorisme implementa la cerca binària. Cal tenir en compte que només el podem executar en llistes ordenades."
      ]
    },
    {
      "cell_type": "code",
      "metadata": {
        "id": "K6yjiLboOOGq"
      },
      "source": [
        "# Algorisme original, ben fet\n",
        "\n",
        "def binsearch(nums, K):\n",
        "    low = 0\n",
        "    high = len(nums)-1\n",
        "    while low <= high:  \n",
        "        mid = (low + high) // 2            \n",
        "        if nums[mid] > K: high = mid - 1\n",
        "        elif nums[mid] < K: low = mid + 1\n",
        "        else:\n",
        "            return mid                           \n",
        "    return -1"
      ],
      "execution_count": null,
      "outputs": []
    },
    {
      "cell_type": "code",
      "metadata": {
        "id": "QoSW0iTFOOGs"
      },
      "source": [
        "# Algorisme original, per fer el recompte d'iteracions\n",
        "\n",
        "def binsearch(nums, K):\n",
        "    low = 0\n",
        "    high = len(nums)-1\n",
        "    itcount = 0  # comptador per al xivato\n",
        "    while low <= high:  \n",
        "        itcount +=1  # comptador per al xivato\n",
        "        mid = (low + high) // 2            \n",
        "        if nums[mid] > K: high = mid - 1\n",
        "        elif nums[mid] < K: low = mid + 1\n",
        "        else:\n",
        "            print(\"ha fet\",itcount,\"iteracions\") # xivato\n",
        "            return mid                           \n",
        "    print(\"ha fet\",itcount,\"iteracions\") # xivato\n",
        "    return -1"
      ],
      "execution_count": null,
      "outputs": []
    },
    {
      "cell_type": "code",
      "metadata": {
        "id": "WbpXOVVcOOGt"
      },
      "source": [
        "k = 5\n",
        "# llistes de 6 elements, ordenades\n",
        "list1 = [5,6,7,8,9,10]   # l'element buscat es troba a l'inici\n",
        "list2 = [0,1,2,3,4,5]    # l'element buscat es troba al final\n",
        "list3 = [23,4,5,6,7,8]   # l'element buscat es troba al mig\n",
        "list4 = [2,4,6,8,10,12]  # l'element buscat no hi és"
      ],
      "execution_count": null,
      "outputs": []
    },
    {
      "cell_type": "code",
      "metadata": {
        "id": "f1cXO5QLOOGv",
        "outputId": "fe59cf61-2836-4ed6-f5a3-5202fa39de39"
      },
      "source": [
        "binsearch(list1,k)"
      ],
      "execution_count": null,
      "outputs": [
        {
          "name": "stdout",
          "output_type": "stream",
          "text": [
            "ha fet 2 iteracions\n"
          ]
        },
        {
          "data": {
            "text/plain": [
              "0"
            ]
          },
          "execution_count": 18,
          "metadata": {},
          "output_type": "execute_result"
        }
      ]
    },
    {
      "cell_type": "code",
      "metadata": {
        "id": "-rYPq8AHOOGy",
        "outputId": "afa2cfa8-8642-4b28-8cbb-b1a84c504e16"
      },
      "source": [
        "binsearch(list2,k)"
      ],
      "execution_count": null,
      "outputs": [
        {
          "name": "stdout",
          "output_type": "stream",
          "text": [
            "ha fet 3 iteracions\n"
          ]
        },
        {
          "data": {
            "text/plain": [
              "5"
            ]
          },
          "execution_count": 19,
          "metadata": {},
          "output_type": "execute_result"
        }
      ]
    },
    {
      "cell_type": "code",
      "metadata": {
        "id": "w0bD3wflOOG0",
        "outputId": "f42e58a5-11ba-431c-dd43-494602e7c641"
      },
      "source": [
        "binsearch(list3,k)"
      ],
      "execution_count": null,
      "outputs": [
        {
          "name": "stdout",
          "output_type": "stream",
          "text": [
            "ha fet 1 iteracions\n"
          ]
        },
        {
          "data": {
            "text/plain": [
              "2"
            ]
          },
          "execution_count": 20,
          "metadata": {},
          "output_type": "execute_result"
        }
      ]
    },
    {
      "cell_type": "code",
      "metadata": {
        "id": "ESz_X9WLOOG2",
        "outputId": "eee3844b-699b-4673-efb3-4bf7856dd539"
      },
      "source": [
        "binsearch(list4,k)"
      ],
      "execution_count": null,
      "outputs": [
        {
          "name": "stdout",
          "output_type": "stream",
          "text": [
            "ha fet 3 iteracions\n"
          ]
        },
        {
          "data": {
            "text/plain": [
              "-1"
            ]
          },
          "execution_count": 21,
          "metadata": {},
          "output_type": "execute_result"
        }
      ]
    },
    {
      "cell_type": "code",
      "metadata": {
        "id": "ZlIhomwLOOG3",
        "outputId": "76a2869f-8369-4bb7-e81f-62a32e243489"
      },
      "source": [
        "# el màxim d'iteracions que farà serà sempre \n",
        "# el valor absolut superior de log_2 la llargada de la llista\n",
        "import math\n",
        "math.log(6,2)"
      ],
      "execution_count": null,
      "outputs": [
        {
          "data": {
            "text/plain": [
              "2.584962500721156"
            ]
          },
          "execution_count": 23,
          "metadata": {},
          "output_type": "execute_result"
        }
      ]
    }
  ]
}