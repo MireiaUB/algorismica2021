{
 "cells": [
  {
   "cell_type": "markdown",
   "metadata": {},
   "source": [
    "# Xuleta per als examens"
   ]
  },
  {
   "cell_type": "markdown",
   "metadata": {},
   "source": [
    "# Python\n",
    "\n",
    "www.python.org\n",
    "\n",
    "Python és un llenguatge de programacié genèric de gran difusió que pot ser usat en qualsevol tipus de tasca que no requereixi accés directe al hardware del sistema o processament en temps real o que impliqui el desenvolupament i manteniment d'una gran infrastructura software per part de molta gent. La principal causa d'aquestes limitacions (i també dels seus avantatges en el altres àmbits) és que té un sistema dèbil de\n",
    "control de la semàntica estàtica del codi.\n",
    "\n",
    "És un llenguatge simple, amb una corba d'aprenentatge ràpida, i disposa d'un gran nombre de mòduls que fan possible la seva aplicació a molt diverses àrees d'aplicació, des del càlcul científic al desenvolupament de plataformes web.\n",
    "\n",
    "Python és un llenguatge interpretat. Això vol dir que les intruccions que el programador escriu no són intruccions que la plataforma que el conté pugui entendre directament i per tant necessiten ser traduides per un altre programa a instruccions comprensible per la màquina.\n",
    "\n",
    "Aquesta característica el fa molt flexible."
   ]
  },
  {
   "cell_type": "markdown",
   "metadata": {},
   "source": [
    "## Elements bàsics "
   ]
  },
  {
   "cell_type": "markdown",
   "metadata": {},
   "source": [
    "*Programa* Un programa en Python és una seqüència de de definicions i\n",
    "comandes.\n",
    "\n",
    "*Comanda* Una comanda és una instrucció directa a l'interpret per fer\n",
    "alguna cosa. El procés per determinar el resultat d'una\n",
    "comanda es diu avaluació.\n",
    "\n",
    "*Literal* Un literal és una entitat el valor de la qual és ella mateixa i\n",
    "que per tant no cal avaluar. 3 és un literal.\n",
    "\n",
    "*Objectes* Els objectes són les entitats bàsiques que manipula Python.\n",
    "Tots els objectes tenen un _tipus_ que defineix quines operacions\n",
    "podem aplicar-lis. Els tipus poden ser escalars o no escalars.\n",
    "Els primers són indivisibles, els segons tenen estructura interna.\n",
    "\n",
    "*Tipus escalars* Python té varios tipus escalars:\n",
    "    \n",
    "+ int S'usa per representar els nombres enters: 3, 1245 o -23.\n",
    "+ float S'usa per representar els nombres reals: 3.0, 1245.2325 o -23.56.\n",
    "+ bool S'usa per representar valors els valors Booleans True o\n",
    "False.\n",
    "+ None És un tipus amb un únic valor.\n",
    "\n",
    "*Operadors* Els operadors ens permeten combinar objectes, formant\n",
    "_expressions_, cada una de les quals denota un objecte,\n",
    "anomenat _valor_, d'un determinat tipus. L'expressió 3 * 2\n",
    "denota l'objecte 5 de tipus int. Els operadors dels tipus int i\n",
    "float són:\n",
    "    \n",
    "+ i+j S'usa per representar la suma. Si tant i com j s\u0013om int, el\n",
    "resultat és int. Si algun dels dos és float, el resultat \u0013es\n",
    "float.\n",
    "+ i-j S'usa per representar la resta. Si tant i com j s\u0013om int, el\n",
    "resultat és int. Si algun dels dos és float, el resultat \u0013es\n",
    "float.\n",
    "+ i*j S'usa per representar el producte. Si tant i com j s\u0013om int,\n",
    "el resultat és int. Si algun dels dos és float, el resultat\n",
    "és float.\n",
    "+ i//j S'usa per representar la divisió entera (retorna el quocient\n",
    "i s'oblida del reste): el valor de 6//2 és 3 i el valor de\n",
    "6//4 és 1.\n",
    "+ i/j S'usa per representar la divisió.\n",
    "+ i%j S'usa per representar la resta (o mòdul) de la divisió entera\n",
    "de i per j.\n",
    "+ i**j S'usa per representar $i^j$ . Si tant i com j són int, el\n",
    "resultat és int. Si algun dels dos és float, el resultat és\n",
    "float.\n",
    "+ &gt;,<,>=,<=, ==, != Són els operadors de comparació, el resultat\n",
    "dels quals és de tipus bool.\n",
    "\n",
    "Tots aquests operadors segueixen l'ordre de precedència\n",
    "habitual.\n",
    "\n",
    "Els operadors del tipus bool són:\n",
    "\n",
    "+ a and b Si tant a com b són True, el resultat és True. Si algun\n",
    "dels dos és False, el resultat és False.\n",
    "+ a or b Si a o b són True, el resultat és True. Si els dos són\n",
    "False, el resultat és False.\n",
    "+ not a Si a és True, el resultat és False. Si a és False, el resultat\n",
    "és True.\n",
    "\n",
    "\n",
    "*Variables* Les variables, en Python, s\u0013on un mecanisme per associar\n",
    "un nom a un objecte. Considerem aquestes comandes:"
   ]
  },
  {
   "cell_type": "code",
   "execution_count": 1,
   "metadata": {},
   "outputs": [],
   "source": [
    "pi = 3.14\n",
    "radi = 11.2\n",
    "area = pi * (radi ** 2)"
   ]
  },
  {
   "cell_type": "markdown",
   "metadata": {},
   "source": [
    "El que fa Python és, primer, associar els noms pi i radi a dos\n",
    "objectes de tipus float i després associar el nom area a un altre\n",
    "objecte de tipus float. Si a continuació escrivim:"
   ]
  },
  {
   "cell_type": "code",
   "execution_count": 2,
   "metadata": {},
   "outputs": [],
   "source": [
    "radi = 0.0"
   ]
  },
  {
   "cell_type": "markdown",
   "metadata": {},
   "source": [
    "Python desfà l'associació anterior del nom radi i l'associa a un\n",
    "objecte diferent de tipus float. En Python una variable és\n",
    "només un nom. Un objecte pot tenir un nom, diversos noms,\n",
    "o cap nom associat amb ell.\n",
    "\n",
    "Els noms de les variables poden estar formats per lletres\n",
    "majúscules i minúscules, dígits (tot i que no poden estar el\n",
    "principi), i el caràcter . Les variables mireia i Mireia són noms\n",
    "diferents. Hi ha un conjunt de paraules que no es poden usar\n",
    "com a noms de variables perquè estan reservades: and, as,\n",
    "assert, break, class, continue, def, del, elif, else,\n",
    "except, exec, finally, for, from, global, if, import, in,\n",
    "is, lambda, not, or, pass, print, raise, return, try, with,\n",
    "while i yield.\n",
    "\n",
    "*Comentaris* Podem posar comentaris sobre el codi que escrivim\n",
    "usant el símbol # a principi de linia:"
   ]
  },
  {
   "cell_type": "code",
   "execution_count": 3,
   "metadata": {},
   "outputs": [],
   "source": [
    "# Calcul de l'area d'un cercle\n",
    "pi = 3.14\n",
    "radi = 11.2\n",
    "area = pi * (radi ** 2)"
   ]
  },
  {
   "cell_type": "markdown",
   "metadata": {},
   "source": [
    "*Assignació múltiple* Python ens permet assignar noms als objectes\n",
    "en paral·lel:"
   ]
  },
  {
   "cell_type": "code",
   "execution_count": 4,
   "metadata": {},
   "outputs": [],
   "source": [
    "x, y = 2, 3\n",
    "x, y = y, x"
   ]
  },
  {
   "cell_type": "markdown",
   "metadata": {},
   "source": [
    "Si executem aquestes intruccions, el contingut final a x és 3 i a\n",
    "y és 2."
   ]
  },
  {
   "cell_type": "markdown",
   "metadata": {},
   "source": [
    "## El tipus Str"
   ]
  },
  {
   "cell_type": "markdown",
   "metadata": {},
   "source": [
    "El tipus no escalar Str serveix per representar seqüències de caràcters o strings. Els literals \n",
    "de tipus Str es poden escriure de dues maneres:\n",
    "'abcd' o \"abcd\". El literal '1' representa el caràcter i no el nombre!\n",
    "\n",
    "La longitud d'un string es pot saber amb la funció len: len('abc') és 3.\n",
    "\n",
    "Hi ha alguns operadors numèrics que es poden aplicar també a aquest\n",
    "tipus. Aquesta abstracció s'anomena sobrecàrrega. Considerem:"
   ]
  },
  {
   "cell_type": "code",
   "execution_count": 6,
   "metadata": {},
   "outputs": [],
   "source": [
    "b,c = 'a' + 'a', 'a'*3"
   ]
  },
  {
   "cell_type": "markdown",
   "metadata": {},
   "source": [
    "Llavors, el contingut de b és 'aa' i el de c és 'aaa'.\n",
    "\n",
    "*Indexació* La indexació és l'operació que ens permet extreure\n",
    "caràcters individuals d'un string. Per exemple, 'abc'[0] és 'a' i\n",
    "'abc'[2] és 'c'. És important observar que donat un string s la\n",
    "primera posició és 0 i l'última len(s)-1. Si escrivim 'abc'[3] és\n",
    "produir\u0012a un error per voler accedir a una posició inexistent. Els\n",
    "indexos negatius s'interpreten en ordre invers: 'abc'[-1] és 'c'.\n",
    "\n",
    "*Slicing* L'slicing és l'operació que ens permet extreure substrings de\n",
    "qualsevol mida. Si s és un string, s[start:end] denota el\n",
    "substring que comença a la posició start i acaba a end-1:\n",
    "'abc'[1:3] és 'bc'.\n",
    "\n",
    "*Input* Python usa input per obtenir dades del teclat de l'ordinador.\n",
    "Aquesta funció fa que el programa s'aturi fins que l'usuari\n",
    "introdueix un string pel teclat de l'ordinador i tracta l'entrada\n",
    "com un string."
   ]
  },
  {
   "cell_type": "markdown",
   "metadata": {},
   "source": [
    "## Condicionals"
   ]
  },
  {
   "cell_type": "markdown",
   "metadata": {},
   "source": [
    "Fins ara hem vist seqüencies linials d'instruccions, que són executades\n",
    "per l'interpret Python una darrera l'altra. Si volem un esquema\n",
    "d'execució condicional, en arbre, necessitem especificar tres parts:\n",
    "\n",
    "+ 1. Un test (que \u0013es una expressi\u0013o de tipus bool).\n",
    "+ 2. Un bloc de codi que s'executi quan l'expressi\u0013o prengui el valor\n",
    "True.\n",
    "+ 3. Un bloc de codi, opcional, que s'executi quan l'expressi\u0013o\n",
    "prengui el valor False.\n",
    "\n",
    "Les instruccions que implementen aquest esquema s'anomenen\n",
    "condicionals i tenen aquesta forma:"
   ]
  },
  {
   "cell_type": "code",
   "execution_count": 34,
   "metadata": {},
   "outputs": [],
   "source": [
    "a = 10\n",
    "\n",
    "if a > 3.0:\n",
    "    b = 0.0\n",
    "else:\n",
    "    b = True"
   ]
  },
  {
   "cell_type": "markdown",
   "metadata": {},
   "source": [
    "Python usa l'estructura visual del codi (definida per les identacions de\n",
    "cada línia) com a part de la seva semàntica. Concretament, el codi que\n",
    "s'executa quan l'expressió booleana pren un determinat valor ha\n",
    "d'estar en un nivell superior d'identació que el test. L'identació de\n",
    "Python són 4 caràcters en blanc.\n",
    "\n",
    "Aquesta regla es pot aplicar a múltiples nivells:"
   ]
  },
  {
   "cell_type": "code",
   "execution_count": 36,
   "metadata": {},
   "outputs": [
    {
     "name": "stdout",
     "output_type": "stream",
     "text": [
      "No es divisible ni per 2 ni per 3\n"
     ]
    }
   ],
   "source": [
    "x = 5\n",
    "\n",
    "if x%2 == 0:\n",
    "    if x%3 == 0 :\n",
    "        print('Divisible per 2 i per 3')\n",
    "    else:\n",
    "        print('Divisible per 2 i no per 3')\n",
    "elif x%3 == 0:\n",
    "    print('Divisible per 3 pero no per 2')\n",
    "else:\n",
    "    print('No es divisible ni per 2 ni per 3')"
   ]
  },
  {
   "cell_type": "markdown",
   "metadata": {},
   "source": [
    "## Iteracions"
   ]
  },
  {
   "cell_type": "markdown",
   "metadata": {},
   "source": [
    "El mecanisme d'iteració es pot implementar de dues formes en Python:\n",
    "mitjançant la instrucció while i mitjançant la instrucció for.\n",
    "\n",
    "*while* Aquesta instrucció ens iterarà mentre es compleixi una condició:"
   ]
  },
  {
   "cell_type": "code",
   "execution_count": 10,
   "metadata": {},
   "outputs": [
    {
     "name": "stdout",
     "output_type": "stream",
     "text": [
      "0\n",
      "1\n",
      "2\n",
      "3\n"
     ]
    }
   ],
   "source": [
    "x = 0\n",
    "while (x < 3):\n",
    "    print (x)\n",
    "    x = x + 1\n",
    "print(x)"
   ]
  },
  {
   "cell_type": "markdown",
   "metadata": {},
   "source": [
    "Aquest codi imprimeix els nombres de 0 a 3."
   ]
  },
  {
   "cell_type": "markdown",
   "metadata": {},
   "source": [
    "*for* Aquesta instrucció ens iterarà un nombre concret de vegades o\n",
    "fins que troba una instrucció break:"
   ]
  },
  {
   "cell_type": "code",
   "execution_count": 12,
   "metadata": {},
   "outputs": [
    {
     "name": "stdout",
     "output_type": "stream",
     "text": [
      "0\n",
      "1\n",
      "2\n",
      "3\n"
     ]
    }
   ],
   "source": [
    "x = 4\n",
    "for i in range(0, x):\n",
    "    print(i)"
   ]
  },
  {
   "cell_type": "markdown",
   "metadata": {},
   "source": [
    "Aquest codi imprimeix els nombres de 0 a 3."
   ]
  },
  {
   "cell_type": "markdown",
   "metadata": {},
   "source": [
    "## Càlcul numèric"
   ]
  },
  {
   "cell_type": "markdown",
   "metadata": {},
   "source": [
    "La manipulació d'objectes de tipus float i l'aplicació repetida de\n",
    "càlculs han de ser tractats amb compte. Considerem aquest codi:"
   ]
  },
  {
   "cell_type": "code",
   "execution_count": 37,
   "metadata": {},
   "outputs": [
    {
     "name": "stdout",
     "output_type": "stream",
     "text": [
      "False\n"
     ]
    }
   ],
   "source": [
    "x = 0.0\n",
    "for i in range(10):\n",
    "    x = x + 0.1\n",
    "print(x == 1.0)"
   ]
  },
  {
   "cell_type": "markdown",
   "metadata": {},
   "source": [
    "El resultat de la seva execució és False. Per entendre el motiu, cal\n",
    "entendre com es representen els nombres binaris.\n",
    "\n",
    "*Representació binària d'un nombre enter* Un nombre binari es\n",
    "representa per una seqüència de dígits que poden ser 0 o 1,\n",
    "anomenats bits. El bit de més a la dreta representa el valor 20,\n",
    "el següent 21 i així successivament. Per tant, el nombre binari\n",
    "101 correspon a 1 \u0001 4 + 0 \u0001 2 + 1 \u0001 1 = 5.\n",
    "\n",
    "*Representació binària d'un nombre real* Tots els llenguatges de\n",
    "programació representen els nombres reals amb la representació\n",
    "anomenada punt flotant, que correspon al producte dels dígits\n",
    "significatius del nombre per un exponent. En el cas binari tant\n",
    "els dígits significatius com l'exponent s'escriuen en forma\n",
    "binària. El problema és que hi ha nombres que no es poden\n",
    "representar de forma exacta (també passa en base 10), com\n",
    "1 / 10 . A Python, hi ha 53 bits de precisió, i per tant el nombre\n",
    "0.1 seria: 11001100110011001100110011001100110011001100110011001,\n",
    "que equival al nombre:\n",
    "0.1000000000000000055511151232157827021181583404541015625.\n",
    "\n",
    "Quan en el programa anterior comparavem x amb 1.0, el\n",
    "resultat era fals perque la suma binaria de les diferents\n",
    "representacions de 0.1 no sumen 1.0.\n",
    "\n",
    "Aquest fet és important quan fem tests d'igualtat. Sempre que\n",
    "tinguem valors flotants, enlloc de fer x == y és millor usar\n",
    "aquesta expressió d'igualtat (aproximada): abs(x-y) <\n",
    "0.000001."
   ]
  },
  {
   "cell_type": "markdown",
   "metadata": {},
   "source": [
    "## Funcions"
   ]
  },
  {
   "cell_type": "markdown",
   "metadata": {},
   "source": [
    "En teoria, amb els nombres, assignacions, input, comparacions i\n",
    "iteracions, podem implementar ja qualsevol programa. Però no és\n",
    "pràctic. Una de les possibilitats addicionals que proporciona qualsevol\n",
    "llenguatge de programació és la d'agrupar instruccions en funcions.\n",
    "\n",
    "*Definició* A Python, una funció es defineix de la següent manera:"
   ]
  },
  {
   "cell_type": "code",
   "execution_count": 38,
   "metadata": {},
   "outputs": [],
   "source": [
    "def max(x,y):\n",
    "    if x > y:\n",
    "        return x\n",
    "    else:\n",
    "        return y"
   ]
  },
  {
   "cell_type": "markdown",
   "metadata": {},
   "source": [
    "_def_ és una paraula reservada que indica que anem a definir una\n",
    "funció. Seguidament escrivim el nom que volem donar a la\n",
    "funció. La seqüència de noms que apareixen entre parèntesi\n",
    "després del nom de la funció són els paràmetres, que prenen\n",
    "valors en el moment que cridem la funció: max(3+2,4).\n",
    "\n",
    "Seguidament ve el cos de la funció degudament identat. Si\n",
    "volem que la funció retorni valors, hem de posar-hi la instrucció\n",
    "return i l'expressió que volem que retorni."
   ]
  },
  {
   "cell_type": "markdown",
   "metadata": {},
   "source": [
    "*Execucio* Què passa quam cridem una funció? Primer, s'avaluen les\n",
    "expressions corresponents als paràmetres. Després, el punt\n",
    "d'execucióo de l'intèrpret es dirigeix a la primera línia de la\n",
    "funció i s'executa el codi de la funció fins que trobem un return\n",
    "o no queden instruccions per executar-se. En aquest darrer cas\n",
    "la funció retorna el valor None. Per últim, el punt d'execució\n",
    "torna a la instrucció posterior a la crida de la funció."
   ]
  },
  {
   "cell_type": "markdown",
   "metadata": {},
   "source": [
    "*Arguments* A Python hi ha dues maneres de passar arguments:\n",
    "posicionalment o mitjançant paraules clau. Suposem aquesta\n",
    "funció:"
   ]
  },
  {
   "cell_type": "code",
   "execution_count": 17,
   "metadata": {},
   "outputs": [],
   "source": [
    "def printName(firstName, lastName, reverse):\n",
    "    if reverse:\n",
    "        print(lastName + ',' + firstName)\n",
    "    else:\n",
    "        print(firstName, lastName)"
   ]
  },
  {
   "cell_type": "markdown",
   "metadata": {},
   "source": [
    "Podem cridar la funció posicionalment,\n",
    "printName('Mireia', 'Ribera', True),\n",
    "i l'intèrpret assignarà valors als paràmetres en funció de l'ordre,\n",
    "o mitjançant paraules clau,\n",
    "printName('Mireia', reverse = False, lastName = 'Ribera'),\n",
    "on usa els noms."
   ]
  },
  {
   "cell_type": "markdown",
   "metadata": {},
   "source": [
    "*Scope* Aquest concepte correspon a l'espai de noms que pot veure\n",
    "una funció. En principi, una funció pot veure els noms associats\n",
    "als seus paràmetres i els de les variables definides en el seu\n",
    "interior. Tots aquests només exisiteixen quan la funció s'està\n",
    "executant.\n",
    "\n",
    "A Python, les funcions també són objectes i per tant es poden\n",
    "tractar com qualsevol altre objecte: tenen tipus, poden\n",
    "apareixer en expressions, poden ser elements de llistes o es\n",
    "poden passar com a paràmetres d'una altra funció."
   ]
  },
  {
   "cell_type": "markdown",
   "metadata": {},
   "source": [
    "## Mòduls (o llibreries)"
   ]
  },
  {
   "cell_type": "markdown",
   "metadata": {},
   "source": [
    "Un mòdul és un fitxer .py que conté definicions i instruccions Python.\n",
    "\n",
    "Un programa pot accedir a un mòdul amb la instrucció import seguida\n",
    "del nom del mòdul.\n",
    "\n",
    "Cada mòdul té la seva pròpia taula de noms. Per accedir-hi, podem\n",
    "usar la notació module.name.\n",
    "\n",
    "Si executem la instrucció from module import * el que estem fent és\n",
    "importar la taula de noms i llavors podem accedir-hi directament.\n",
    "\n",
    "Les instruccions d'un mòdul s'executen la primera vegada que\n",
    "s'importa el mòdul dins del programa, i només la primera vegada. Si\n",
    "volem que s'executi una altra vegada, podem usar la instrucció\n",
    "reload(module)."
   ]
  },
  {
   "cell_type": "markdown",
   "metadata": {},
   "source": [
    "## Fitxers"
   ]
  },
  {
   "cell_type": "markdown",
   "metadata": {},
   "source": [
    "Per poder guardar els resultats o les dades d'un programa hem d'usar\n",
    "fitxers, que són dades localitzades en el disc de l'ordinador i que tenen\n",
    "un nom. A Python ho podem fer així:"
   ]
  },
  {
   "cell_type": "code",
   "execution_count": null,
   "metadata": {},
   "outputs": [],
   "source": [
    "a = open('llistat.txt','r')"
   ]
  },
  {
   "cell_type": "markdown",
   "metadata": {},
   "source": [
    "Amb això indiquem que volem llegir el fitxer llistat.txt, que\n",
    "anomenarem a. Si hi volguéssim escriure:"
   ]
  },
  {
   "cell_type": "code",
   "execution_count": 20,
   "metadata": {},
   "outputs": [],
   "source": [
    "a = open('llistat.txt','w')"
   ]
  },
  {
   "cell_type": "markdown",
   "metadata": {},
   "source": [
    "Les instruccions més comuns quan tractem fitxers són:\n",
    "+ open('fileName', 'w'): crea un fitxer per escriure-hi.\n",
    "+ open('fileName', 'r'): obre un fitxer existent per llegir-lo.\n",
    "+ f.read(): retorna un string amb els continguts del fitxer f.\n",
    "+ f.readline(): retorna la següent linia del fitxer f.\n",
    "+ f.readlines(): retorna una llista on cada element és una linia del\n",
    "fitxer f.\n",
    "+ f.write(s): escriu l'string s al final del fitxer f.\n",
    "+ f.close(): tanca el fitxer. Fins que no tanquem el fitxer, cap altre\n",
    "programa pot accedir-hi!"
   ]
  },
  {
   "cell_type": "markdown",
   "metadata": {},
   "source": [
    "## Tipus estructurats (o col·leccions)"
   ]
  },
  {
   "cell_type": "markdown",
   "metadata": {},
   "source": [
    "*Tuples* Les tuples són seqüències no mutables (un cop definides no es\n",
    "poden cambiar) d'objectes arbitraris. Es defineixen amb\n",
    "parèntesis: a = (1, 'mireia', 3.0). Les tuples es poden\n",
    "concatenar, indexar i fer-hi slicing. La instrucció for pot iterar\n",
    "pels elements d'una tupla.\n",
    "Llistes Les llistes són seqüències mutables d'objectes arbitraris. Els\n",
    "mètodes més comuns són:\n",
    "+ L.append(e): afegeix un objecte e al final de la llista L.\n",
    "+ L.count(e): retorna el nombre de vegades que hi ha l'objecte e\n",
    "a la llista L.\n",
    "+ L.insert (i, e): inserta l'objecte _e_ a la posició _i_ de la llista L.\n",
    "+ L.extend(Ll): afegeix els ítems de la llista L1 al final de la llista\n",
    "L.\n",
    "+ L.remove(e): esborra la primera aparició de l'element a la llista\n",
    "L.\n",
    "+ L.index(e): retorna l'índex de la primera aparició de l'element\n",
    "a la llista L.\n",
    "+ L.pop(i:) elimina i retorna l'element de la posició i.\n",
    "+ L.sort(): ordena els elements de la llista L.\n",
    "+ L.reverse(): aplica una ordenació inversa als elements de la\n",
    "llista L.\n",
    "\n",
    "*Clonatge* Donada una llista L1, la instrucció L2 = L1 no crea una\n",
    "còpia de la llista, sinó que li assigna un segon nom. Per fer una\n",
    "còpia cal fer això: L2 = L1(:)."
   ]
  },
  {
   "cell_type": "code",
   "execution_count": 39,
   "metadata": {},
   "outputs": [],
   "source": [
    "L2 = [\"a\", 5, False, 0.5]\n",
    "\n",
    "L1= L2[:]"
   ]
  },
  {
   "cell_type": "markdown",
   "metadata": {},
   "source": [
    "*Comprensió de llistes* És una forma d'especificar l'aplicació d'una\n",
    "operació a tots els elements d'una llista. Crea una nova llista."
   ]
  },
  {
   "cell_type": "code",
   "execution_count": 40,
   "metadata": {},
   "outputs": [],
   "source": [
    "L = [x**2 for x in range(1,7)]"
   ]
  },
  {
   "cell_type": "markdown",
   "metadata": {},
   "source": [
    "*Operacions en strings, tuples i llistes* Les opracions més comuns\n",
    "són:\n",
    "+ seq [i]: retorna l'ièssim element de la seqüència..\n",
    "+ len(seq): retorna la longitud de la seqüència.\n",
    "+ seql + seq2: concatena dues seqüencies.\n",
    "+ n * seq: retorna una seqüència on seq es repeteix n vegades.\n",
    "+ seq[start:end]: retorna un slice de la seqüència.\n",
    "+ e in seq: fa un test sobre el contingut de l'element e a la\n",
    "seqüència.\n",
    "+ for e in seq: itera sobre els elements de la seqüència.\n",
    "\n",
    "*Diccionaris* Són uns objectes semblants a les llistes, amb la\n",
    "diferència que els indexos, que s'anomenen claus, no han de ser\n",
    "enters, sinó que poden ser valors de qualsevol tipus no mutable:"
   ]
  },
  {
   "cell_type": "code",
   "execution_count": 41,
   "metadata": {},
   "outputs": [],
   "source": [
    "monthNumbers = {'Jan':1, 'Feb':2, 'Mar':3}"
   ]
  },
  {
   "cell_type": "markdown",
   "metadata": {},
   "source": [
    "Podem fer comprensions amb diccionaris:"
   ]
  },
  {
   "cell_type": "code",
   "execution_count": 42,
   "metadata": {},
   "outputs": [],
   "source": [
    "a = {n: n*n for n in range(7)}\n",
    "# a -> {0:0, 1:1, 2:4, 3:9, 4:16, 5:25, 6:36}\n",
    "odd_sq = {n: n*n for n in range(7) if n%2}\n",
    "# odd_sq -> {1:1, 3:9, 5:25}"
   ]
  },
  {
   "cell_type": "markdown",
   "metadata": {},
   "source": [
    "Hi ha dues maneres d'iterar un diccionari:"
   ]
  },
  {
   "cell_type": "code",
   "execution_count": 43,
   "metadata": {},
   "outputs": [
    {
     "name": "stdout",
     "output_type": "stream",
     "text": [
      "Jan\n",
      "Feb\n",
      "Mar\n",
      "Jan 1\n",
      "Feb 2\n",
      "Mar 3\n"
     ]
    }
   ],
   "source": [
    "dictionary = {'Jan':1, 'Feb':2, 'Mar':3} \n",
    "\n",
    "for key in dictionary:\n",
    "    print(key)\n",
    "for key, value in dictionary.items():\n",
    "    print(key,value)"
   ]
  },
  {
   "cell_type": "markdown",
   "metadata": {},
   "source": [
    "Les operacions més importants sobre diccionaris són:\n",
    "+ len(d): retorna el nombre d'ítems a d\n",
    "+ d.keys(): retorna una llista amb les claus de d.\n",
    "+ d.values(): retorna una llista amb els valors de d.\n",
    "+ k in d: retorna True si la clau k és a d.\n",
    "+ d[k]: retorna el valor que té la clau k\n",
    "+ d[k] = v: associa el valor v amb la clau k. Si ja hi havia alguna\n",
    "cosa associada a k reemplaça el valor.\n",
    "+ del d[k]: elimina el contingut de la clau k de d.\n",
    "+ for k in d: itera sobre les claus de d."
   ]
  },
  {
   "cell_type": "markdown",
   "metadata": {},
   "source": [
    "*Conjunts* Els conjunts són col·leccions mutables, no ordenades,\n",
    "d'objectes no mutables.\n",
    "\n",
    "Podem crear un conjunt sense cap element, buit = set()\n",
    "(compte: fg crea un diccionari buit, no un conjunt buit),\n",
    "definir-lo, c = (1,True,'a') o convertir una llista:"
   ]
  },
  {
   "cell_type": "code",
   "execution_count": 26,
   "metadata": {},
   "outputs": [],
   "source": [
    "L = [1,2,3]\n",
    "c = set(L)"
   ]
  },
  {
   "cell_type": "markdown",
   "metadata": {},
   "source": [
    "També podem fer comprensions amb conjunts:"
   ]
  },
  {
   "cell_type": "code",
   "execution_count": 27,
   "metadata": {},
   "outputs": [],
   "source": [
    "s = {e for e in 'ABCHJABDC' if e not in 'AB'}\n",
    "# --> set(['H', 'C', 'J', 'D'])\n",
    "s = {(x,y) for x in range(-1,1) \\\n",
    "     for y in range (-1,1)}\n",
    "# --> set([(0, -1), (0, 0), (-1, 0), (-1, -1)])"
   ]
  },
  {
   "cell_type": "markdown",
   "metadata": {},
   "source": [
    "La manera d'iterar sobre un conjunt és:"
   ]
  },
  {
   "cell_type": "code",
   "execution_count": 44,
   "metadata": {},
   "outputs": [
    {
     "name": "stdout",
     "output_type": "stream",
     "text": [
      "1\n",
      "2\n",
      "3\n"
     ]
    }
   ],
   "source": [
    "s = {1,2,3}\n",
    "\n",
    "for item in s:\n",
    "    print(item)"
   ]
  },
  {
   "cell_type": "markdown",
   "metadata": {},
   "source": [
    "I la de buscar un element:"
   ]
  },
  {
   "cell_type": "code",
   "execution_count": 47,
   "metadata": {},
   "outputs": [
    {
     "name": "stdout",
     "output_type": "stream",
     "text": [
      "not found\n"
     ]
    }
   ],
   "source": [
    "item = 4\n",
    "\n",
    "if item in s:\n",
    "    print(item)\n",
    "if item not in s:\n",
    "    print('not found')"
   ]
  },
  {
   "cell_type": "markdown",
   "metadata": {},
   "source": [
    "Les operacions més importants sobre conjunts són:\n",
    "+ len(s): retorna el nombre d'elements del conjunt.\n",
    "+ s.add(item): afegeix un element al conjunt.\n",
    "+ s.remove(item): elimina un element del conjunt. Si no hi \u0013es,\n",
    "genera un error.\n",
    "+ s.discard(item): elimina un element del conjunt si hi \u0013es.\n",
    "+ s.pop(): retorna i elimina un element aleatori. Si el conjunt \u0013es\n",
    "buit, genera un error.\n",
    "+ s.clear(): elilmina tots els elements del conjunt.\n",
    "+ s.union(o[, ...]): retorna la unió dels conjunts.\n",
    "+ s.intersection(o): retorna la intersecció dels conjunts.\n",
    "+ s.difference(o): retorna els elements que són a s però no a o."
   ]
  },
  {
   "cell_type": "markdown",
   "metadata": {},
   "source": [
    "## Codi dels algorismes principals estudiats durant el curs"
   ]
  },
  {
   "cell_type": "code",
   "execution_count": 49,
   "metadata": {
    "tags": []
   },
   "outputs": [],
   "source": [
    "def fib1(n):\n",
    "    if n==1:\n",
    "        return n\n",
    "    if n==0:\n",
    "        return n\n",
    "    return fib1(n-1) + fib1(n-2)"
   ]
  },
  {
   "cell_type": "code",
   "execution_count": 50,
   "metadata": {
    "tags": []
   },
   "outputs": [],
   "source": [
    "def fibonacci(n):\n",
    "    a, b = 0, 1\n",
    "    for i in range (1, n+1):\n",
    "        a,b = b, a+b\n",
    "    return a"
   ]
  },
  {
   "cell_type": "code",
   "execution_count": 51,
   "metadata": {},
   "outputs": [],
   "source": [
    "def gcd(a,b):\n",
    "    while a:\n",
    "        a, b = b%a, a\n",
    "    return b"
   ]
  },
  {
   "cell_type": "code",
   "execution_count": 52,
   "metadata": {
    "tags": []
   },
   "outputs": [],
   "source": [
    "def mul(x,y):\n",
    "    import math\n",
    "    if y == 0:\n",
    "        return 0\n",
    "    z = mul (x, math.floor(y/2))\n",
    "    if y%2 == 0:\n",
    "        return 2*z\n",
    "    else:\n",
    "        return x+2*z"
   ]
  },
  {
   "cell_type": "code",
   "execution_count": 53,
   "metadata": {
    "tags": []
   },
   "outputs": [],
   "source": [
    "def binconvert(n):\n",
    "    barray = [ ]\n",
    "    if n == 0:\n",
    "        return 0\n",
    "    while n:\n",
    "        barray.append(n%2)\n",
    "        n //=2\n",
    "    barray.reverse()\n",
    "    return barray\n",
    "\n",
    "def modexp(a,n,m):\n",
    "    bits = binconvert(n)\n",
    "    solution = 1\n",
    "    for x in bits:\n",
    "        solution = (solution*solution)%m\n",
    "        if x:\n",
    "            solution = (solution*a)%m\n",
    "    return solution"
   ]
  },
  {
   "cell_type": "code",
   "execution_count": 54,
   "metadata": {
    "tags": []
   },
   "outputs": [],
   "source": [
    "def lev_distance(first, second):\n",
    "    if len(first) > len(second):\n",
    "        first, second = second, first\n",
    "    if len(second) == 0:\n",
    "        return len(first)\n",
    "    first_length = len(first) + 1\n",
    "    second_length = len(second) + 1\n",
    "    distance_matrix =[[0] * second_length for x in range(first_length)]\n",
    "    for i in range(first_length):\n",
    "        distance_matrix[i][0] = i\n",
    "    for j in range(second_length):\n",
    "        distance_matrix[0][j]=j\n",
    "    for i in range(1, first_length):\n",
    "        for j in range(1, second_length):\n",
    "            deletion = distance_matrix[i-1][j] +1\n",
    "            insertion = distance_matrix[i][j-1] +1\n",
    "            substitution = distance_matrix[i-1][j-1]\n",
    "            if first[i-1] != second[j-1]:\n",
    "                substitution += 1\n",
    "            distance_matrix[i][j] = min(insertion,deletion, substitution)\n",
    "    return distance_matrix[first_length-1][second_length-1]"
   ]
  },
  {
   "cell_type": "code",
   "execution_count": 55,
   "metadata": {
    "tags": []
   },
   "outputs": [],
   "source": [
    "def quick_sort(A):\n",
    "    quick_sort_r(A,0,len(A)-1)\n",
    "    \n",
    "def quick_sort_r(A , first, last):\n",
    "    if last > first:\n",
    "        pivot = partition(A, first, last)\n",
    "        quick_sort_r(A, first, pivot - 1)\n",
    "        quick_sort_r(A, pivot + 1, last)\n",
    "\n",
    "def partition(A, first, last):\n",
    "    sred = (first + last)//2\n",
    "    if A[first] > A [sred]:\n",
    "        A[first], A[sred] = A[sred], A[first]\n",
    "    if A[first] > A [last]:\n",
    "        A[first], A[last] = A[last], A[first]\n",
    "    if A[sred] > A[last]:\n",
    "        A[sred], A[last] = A[last], A[sred]\n",
    "    A [sred], A [first] = A[first], A[sred]\n",
    "    pivot = first\n",
    "    i = first + 1\n",
    "    j = last\n",
    "    while True:\n",
    "        while i <= last and A[i] <= A[pivot]: \n",
    "            i += 1\n",
    "        while j >= first and A[j] > A[pivot]: \n",
    "            j -= 1\n",
    "        if i >= j: \n",
    "            break\n",
    "        else:\n",
    "            A[i], A[j] = A[j], A[i]\n",
    "    A[j], A[pivot] = A[pivot], A[j]\n",
    "    return j"
   ]
  },
  {
   "cell_type": "code",
   "execution_count": 56,
   "metadata": {
    "tags": []
   },
   "outputs": [],
   "source": [
    "def mergesort(list):\n",
    "    if len(list) < 2:\n",
    "        return list\n",
    "    else:\n",
    "        middle = len(list) // 2\n",
    "        left = mergesort(list[:middle])\n",
    "        right = mergesort(list[middle:])\n",
    "    return merge(left, right)\n",
    "\n",
    "def merge(left, right):\n",
    "    result = [ ]\n",
    "    i ,j = 0, 0\n",
    "    while(i < len(left) and j < len(right)):\n",
    "        if (left[i] <= right[j]):\n",
    "            result.append(left[i])\n",
    "            i = i + 1\n",
    "        else:\n",
    "            result.append(right[j])\n",
    "            j = j + 1\n",
    "    result += left[i:]\n",
    "    result += right[j:]\n",
    "    return result"
   ]
  },
  {
   "cell_type": "code",
   "execution_count": 57,
   "metadata": {
    "tags": []
   },
   "outputs": [],
   "source": [
    "def binsearch(x,nums):\n",
    "    recbinsearch(x,nums,0,len(nums)-1)\n",
    "\n",
    "def recbinsearch(x, nums, low, high):\n",
    "    if low>high:\n",
    "        return -1\n",
    "    mid = (low + high) // 2;\n",
    "    items = nums[mid]\n",
    "    if items == x:\n",
    "        return mid\n",
    "    elif x < items:\n",
    "        return recbinsearch(x,nums,low,mid-1)\n",
    "    else:\n",
    "        return recbinsearch(x,nums,mid+1,high)"
   ]
  },
  {
   "cell_type": "code",
   "execution_count": 58,
   "metadata": {},
   "outputs": [],
   "source": [
    "binsearch(5, [1, 2, 3, 4, 5, 6, 7])"
   ]
  },
  {
   "cell_type": "markdown",
   "metadata": {},
   "source": [
    "# Complexitat de les operacions més habituals a Python"
   ]
  },
  {
   "cell_type": "markdown",
   "metadata": {},
   "source": [
    "L'assignació d'un valor a una variable (que s'implementa mitjançant la còpia d'una referència) és `O(1)`. \n",
    "\n",
    "Els operadors simples (`+`, `*`, etc.) sobre enters petits (menors de 12 dígits) són `O(1)`.\n",
    "\n",
    "Els operadors sobre col·leccions de dades de longitud `N`, `N = len(data-type)` són:\n",
    "\n",
    "#### Lists:\n",
    "                               \n",
    "Operació      | Exemple      | Complexitat     | Notes\n",
    "--------------|--------------|---------------|-------------------------------\n",
    "Index         | l[i]         | O(1)\t     |\n",
    "Store         | l[i] = 0     | O(1)\t     |\n",
    "Length        | len(l)       | O(1)\t     |\n",
    "Append        | l.append(5)  | O(1)\t     |\n",
    "Pop\t          | l.pop()      | O(1)\t     | equivalent a l.pop(-1)\n",
    "Clear         | l.clear()    | O(1)\t     | equivalent a l = []\n",
    "Slice         | l[a:b]       | O(b-a)\t | O(len(l)-0)=O(N)\n",
    "check ==, !=  | l1 == l2     | O(N)      |\n",
    "Insert        | l[a:b] = ... | O(N)\t     |\n",
    "Delete        | del l[i]     | O(N)\t     | \n",
    "Containment   | x in/not in l| O(N)\t     | cerca a la llista\n",
    "Copy          | l.copy()     | O(N)\t     | equivalent a l[:] que és O(N)\n",
    "Remove        | l.remove(...)| O(N)\t     | \n",
    "Pop\t          | l.pop(i)     | O(N)\t     | \n",
    "Extreme value | min(l)/max(l)| O(N)\t     | cerca a la llista\n",
    "Reverse\t      | l.reverse()  | O(N)\t     |\n",
    "Iteration     | for v in l:  | O(N)          |\n",
    "Sort          | l.sort()     | O(N Log N)    | \n",
    "\n",
    "#### Sets (encara que no els estudiarem explícitament, afegim aquí les complexitats)\n",
    "\n",
    "Operació      | Exemple      | Complexitat     | Notes\n",
    "--------------|--------------|---------------|-------------------------------\n",
    "Length        | len(s)       | O(1)\t     |\n",
    "Add           | s.add(5)     | O(1)\t     |\n",
    "Containment   | x in/not in s| O(1)\t     | \n",
    "Remove        | s.remove(..) | O(1)\t     | \n",
    "Discard       | s.discard(..)| O(1)\t     | \n",
    "Pop           | s.pop()      | O(1)\t     |\n",
    "Clear         | s.clear()    | O(1)\t     | equivalent a s = set()\n",
    "check ==, !=  | s != t       | O(len(s))     | \n",
    "<=/<          | s <= t       | O(len(s))     | issubset\n",
    "\\>=/>         | s >= t       | O(len(t))     | issuperset \n",
    "Union         | s l t        | O(len(s)+len(t)) |\n",
    "Intersection  | s & t        | O(len(s)+len(t)) |\n",
    "Difference    | s - t        | O(len(s)+len(t)) |\n",
    "Symmetric Diff| s ^ t        | O(len(s)+len(t)) |\n",
    "Iteration     | for v in s:  | O(N)          |\n",
    "Copy          | s.copy()     | O(N)\t     |\n",
    "\n",
    "#### Dictionaries\n",
    "                             \n",
    "Operació      | Exemple      | Complexitat     | Notes\n",
    "--------------|--------------|---------------|-------------------------------\n",
    "Index         | d[k]         | O(1)      |\n",
    "Store         | d[k] = v     | O(1)      |\n",
    "Length        | len(d)       | O(1)      |\n",
    "Delete        | del d[k]     | O(1)      |\n",
    "get/setdefault| d.method     | O(1)      |\n",
    "Pop           | d.pop(k)     | O(1)      |\n",
    "Pop item      | d.popitem()  | O(1)      |\n",
    "Clear         | d.clear()    | O(1)      | equivalent a s = {} o = dict()\n",
    "View          | d.keys()     | O(1)      | el mateix que d.values()\n",
    "Iteration     | for k in d:  | O(N)      | totes les formes: keys, values, items"
   ]
  }
 ],
 "metadata": {
  "kernelspec": {
   "display_name": "Python 3 (ipykernel)",
   "language": "python",
   "name": "python3"
  },
  "language_info": {
   "codemirror_mode": {
    "name": "ipython",
    "version": 3
   },
   "file_extension": ".py",
   "mimetype": "text/x-python",
   "name": "python",
   "nbconvert_exporter": "python",
   "pygments_lexer": "ipython3",
   "version": "3.8.12"
  }
 },
 "nbformat": 4,
 "nbformat_minor": 4
}
