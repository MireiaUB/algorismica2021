{
  "nbformat": 4,
  "nbformat_minor": 0,
  "metadata": {
    "kernelspec": {
      "display_name": "Python 3",
      "language": "python",
      "name": "python3"
    },
    "language_info": {
      "codemirror_mode": {
        "name": "ipython",
        "version": 3
      },
      "file_extension": ".py",
      "mimetype": "text/x-python",
      "name": "python",
      "nbconvert_exporter": "python",
      "pygments_lexer": "ipython3",
      "version": "3.7.3"
    },
    "colab": {
      "name": "Complexitat.ipynb",
      "provenance": [],
      "collapsed_sections": []
    }
  },
  "cells": [
    {
      "cell_type": "markdown",
      "metadata": {
        "id": "mrFMMv7Az_Bz"
      },
      "source": [
        "\n",
        "<div id=\"capcalera\">\n",
        "<p><a href=\"https://colab.research.google.com/github/algorismica2019/problemes/blob/master/Complexitat.ipynb\"><img style=\"margin:-10px 10px 20px 0\" width=\"150px\" align=\"right\" src=\"https://raw.githubusercontent.com/algorismica2019/problemes/master/assets/colab-badge.png?raw=1\" alt=\"Obrir a Colab\" title=\"Obrir i executar a Google Colaboratory\"></a></p>\n",
        "<p style=\"clear:both\"><img align='left' width=\"300px\" style=\"padding-right:10px;float=left\" src=\"https://raw.githubusercontent.com/algorismica2019/problemes/master/assets/al-khwarizmi.png\">Aquest notebook forma part dels continguts teòrics dels problemes de l'assignatura d'<strong>Algorísmica</strong> del Grau d'Enginyeria Informàtica a la <a href=\"https://mat.ub.edu\">Facultat de Matemàtiques i Informàtica</a> de la <a href=\"https://www.ub.edu\">Universitat de Barcelona</a> </p>\n",
        "\n",
        "<p>Els problemes s'ofereixen sota llicència <a href=\"https://creativecommons.org/licenses/by-nc-nd/3.0/us/legalcode\">CC-BY-NC-ND license</a>, i el codi sota <a href=\"https://opensource.org/licenses/MIT\">Llicència MIT</a>.</p>\n",
        "\n",
        "</div>"
      ]
    },
    {
      "cell_type": "markdown",
      "metadata": {
        "id": "5dKr2Cpuz_B4"
      },
      "source": [
        "# <span class=\"tema\">( Continguts teòrics)</span> Complexitat"
      ]
    },
    {
      "cell_type": "markdown",
      "metadata": {
        "id": "dFiAwZhgz_B5"
      },
      "source": [
        "## Documentació relacionada\n",
        "\n",
        "- CS Dojo \"Introduction to Big O Notation and Time Complexity\" [video]: https://www.youtube.com/watch?v=D6xkbGLQesk "
      ]
    },
    {
      "cell_type": "markdown",
      "metadata": {
        "id": "8cGoGeRDz_B6"
      },
      "source": [
        "## Complexitat de les operacions\n",
        "\n",
        "### Mesura empírica del cost computacional.\n",
        "\n",
        "`timeit` és un mòdul python que ens permet mesurar de forma aproximada el temps de procés d'unes linies de codi:\n",
        "\n",
        "```pyton\n",
        "import timeit\n",
        "\n",
        "start_time = timeit.default_timer()\n",
        "func1()\n",
        "print(timeit.default_timer() - start_time)\n",
        "\n",
        "start_time = timeit.default_timer()\n",
        "func2()\n",
        "print(timeit.default_timer() - start_time)\n",
        "``` \n",
        "\n",
        "Si treballem en un notebook de Jupyter podem fer servir la instrucció `%timeit` per calcular el temps de càlcul d'un línia de codi:\n",
        "\n",
        "```python\n",
        "def f(x):\n",
        "    return x * x\n",
        "\n",
        "%timeit for x in range(100): f(x)\n",
        "\n",
        "> 100000 loops, best of 3: 20.3 µs per loop\n",
        "```\n",
        "\n",
        "Si poseu `%%timeit` al principi d'una cel·la calculareu el temps de càlcul de tota la cel·la.\n",
        "\n",
        "```python\n",
        "%%timeit \n",
        "l = []\n",
        "for i in range(1000):\n",
        "    l.append(i ** 2)\n",
        "\n",
        "> 1000 loops, best of 3: 340 µs per loop\n",
        "```\n"
      ]
    },
    {
      "cell_type": "code",
      "metadata": {
        "id": "ATO4VC2Xz_B6",
        "colab": {
          "base_uri": "https://localhost:8080/"
        },
        "outputId": "f4cd26f9-96ab-4c83-992a-8467bfa8aae8"
      },
      "source": [
        "# Tambe podem usar time.clock abans i després del codi que volem mesurar. \n",
        "# Atenció però, time.clock no té un funcionament idèntic en els diferents sisemes operatius (https://docs.python.org/2/library/time.html)\n",
        "\n",
        "# Observa els dos codis següents i la diferència de temps\n",
        "import time\n",
        "\n",
        "t1 = time.clock()\n",
        "\n",
        "llista = []\n",
        "for i in range(5000000):\n",
        "    llista.append(i)\n",
        "\n",
        "t2 = time.clock()\n",
        "\n",
        "print(f\"El temps de proces ha estat de {(t2-t1)/1000} s\")"
      ],
      "execution_count": null,
      "outputs": [
        {
          "output_type": "stream",
          "name": "stderr",
          "text": [
            "/usr/local/lib/python3.7/dist-packages/ipykernel_launcher.py:7: DeprecationWarning: time.clock has been deprecated in Python 3.3 and will be removed from Python 3.8: use time.perf_counter or time.process_time instead\n",
            "  import sys\n"
          ]
        },
        {
          "output_type": "stream",
          "name": "stdout",
          "text": [
            "El temps de proces ha estat de 0.0006029330000000002 s\n"
          ]
        },
        {
          "output_type": "stream",
          "name": "stderr",
          "text": [
            "/usr/local/lib/python3.7/dist-packages/ipykernel_launcher.py:13: DeprecationWarning: time.clock has been deprecated in Python 3.3 and will be removed from Python 3.8: use time.perf_counter or time.process_time instead\n",
            "  del sys.path[0]\n"
          ]
        }
      ]
    },
    {
      "cell_type": "code",
      "metadata": {
        "id": "HRxmHDiUz_B8",
        "outputId": "f499bbdd-107a-4a97-dd34-722e49a8b0a5"
      },
      "source": [
        "import time\n",
        "\n",
        "t1 = time.clock()\n",
        "\n",
        "llista2 = [i for i in range(5000000)]\n",
        "\n",
        "t2 = time.clock()\n",
        "\n",
        "print(t2 - t1)\n",
        "\n",
        "# En fer servir una comprensió de llistes el temps d'execució es redueix a la meitat!"
      ],
      "execution_count": null,
      "outputs": [
        {
          "name": "stderr",
          "output_type": "stream",
          "text": [
            "C:\\Users\\Elitebook\\Anaconda3\\lib\\site-packages\\ipykernel_launcher.py:3: DeprecationWarning: time.clock has been deprecated in Python 3.3 and will be removed from Python 3.8: use time.perf_counter or time.process_time instead\n",
            "  This is separate from the ipykernel package so we can avoid doing imports until\n"
          ]
        },
        {
          "name": "stdout",
          "output_type": "stream",
          "text": [
            "0.37919390000000064\n"
          ]
        },
        {
          "name": "stderr",
          "output_type": "stream",
          "text": [
            "C:\\Users\\Elitebook\\Anaconda3\\lib\\site-packages\\ipykernel_launcher.py:7: DeprecationWarning: time.clock has been deprecated in Python 3.3 and will be removed from Python 3.8: use time.perf_counter or time.process_time instead\n",
            "  import sys\n"
          ]
        }
      ]
    },
    {
      "cell_type": "code",
      "metadata": {
        "colab": {
          "base_uri": "https://localhost:8080/"
        },
        "id": "dQFgC6CCamY7",
        "outputId": "f3068079-79b9-4bf6-a4d1-975bad308019"
      },
      "source": [
        "%%timeit \n",
        "l = []\n",
        "for i in range(1000):\n",
        "    l.append(i ** 2)"
      ],
      "execution_count": null,
      "outputs": [
        {
          "output_type": "stream",
          "name": "stdout",
          "text": [
            "1000 loops, best of 5: 278 µs per loop\n"
          ]
        }
      ]
    },
    {
      "cell_type": "markdown",
      "metadata": {
        "id": "bXQEsXgdz_B9"
      },
      "source": [
        "### <span class=\"exercici\">Exercici 1. Fes una funció que mostri els numeros senars entre 13 i 13000. Quin temps triga? compara els teus resultats amb els dels teus companys</span>"
      ]
    },
    {
      "cell_type": "markdown",
      "metadata": {
        "id": "h8CT4lymz_B-"
      },
      "source": [
        "# Complexitat\n",
        "\n",
        "\n",
        "## Càlcul\n",
        "\n",
        "Estimem la complexitat d'un algorisme comptant el nombre de funcions elementals que fa l'algorisme. Usualment calcularem el temps del pitjor cas, i usarem la notació gran O.\n",
        "\n",
        "Anem a veure uns casos simples de càlcul de complexitats:\n",
        "\n",
        "### Complexitat d'una operació\n",
        "\n",
        "*operació simple*\n",
        "\n",
        "En general la complexitat d'aquest cas és d'ordre Constant, ja que no depèn de la mida de l'entrada. Però atenció, quan treballem amb llistes algunes operacions aparentment simples, tenen una complexitat d'ordre **n**. Recordeu que en anteriors sessions hem especificat l'ordre de complexitat de les operacions més habituals amb col.leccions. Altres complexitats les podeu consultar a <a href=\"https://wiki.python.org/moin/TimeComplexity\">TimeComplexity </a>\n",
        "\n",
        "- LLista.append('a')                    # complexitat O(1)\n",
        "- Llista.insert(2,'a')                  # complexitat O(n)\n",
        "\n",
        "### Complexitat d'un bloc condicional\n",
        "+ if condicio:\n",
        "    + operacio1\n",
        "+ else:\n",
        "    + operacio2\n",
        "\n",
        "Quan ens trobem amb un bloc condicional (if, elif, else) la complexitat serà la màxima de les complexitats de les diferents opcions. Per ex. si complexitat(operacio1)=O(n) i complexitat(operacio2)=O(1), la complexitat del bloc if serà de O(n), que és l'opció amb més complexitat.\n",
        "\n",
        "### Complexitat d'un conjunt d'instruccions\n",
        "\n",
        "    def: funcio(): \n",
        "        operacio1 \n",
        "        operacio2 \n",
        "        operacio3 \n",
        "        operacio4 \n",
        "        operacio5 \n",
        "        if condicio: \n",
        "            operacio6 \n",
        "        else: \n",
        "            operacio7 \n",
        "\n",
        "\n",
        "Quan s'agrupen diverses operacions simples la complexitat és la suma de totes elles, tenint en compte que quan treballem amb ordres de magnitud i sumem diverses quantitats, només ens quedem amb la cota superior, que és la que mana. \n",
        "\n",
        "Així si \n",
        "- complexitat(operacio1) == complexitat(operacio2) == complexitat(operacio3) és O(1), \n",
        "- i la complexitat(operacio4) és O(n^2), i la complexitat(operacio5) és O(log n), \n",
        "- la complexitat de totes aquestes serà d'ordre O(n^2), que és la complexitat major. \n",
        "- I sumant la complexitat del bloc condicional (operacio6 és O(n) i operacio7 és O(1)), \n",
        "- seguim tenint O(n^2), ja que aquest ordre predomina sobre O(n).\n",
        "\n",
        "La complexitat final d'aquest bloc és O(n^2).\n",
        "\n",
        "### Complexitat dels blocs iteratius (bucles)\n",
        "\n",
        "    for i in range(1, n): \n",
        "        operacio1 \n",
        "    \n",
        "    for j in range(1, n): \n",
        "        operacio1\n",
        "\n",
        "En el cas dels bucles iteratius, primer cal calcular la complexitat de les operacions dins el bucle, i després multiplicar-les pel nombre de vegades que iterem.\n",
        "En els exemples, si complexitat(operacio1) és O(1), la complexitat dels blocs és O(n), ja que tots -- en el pitjor cas -- iteren n vegades sobre aquesta operació.\n",
        "\n",
        "### Complexitat dels blocs iteratius imbricats\n",
        "\n",
        "    for i in range(1, n):\n",
        "        for j in range(1, n): \n",
        "            operacio1\n",
        "\n",
        "En el cas dels bucles imbricats cal multiplicar tantes vegades com bucles hi hagi. A l'exemple, la complexitat del bloc de la j és O(n) però la complexitat del bloc de la i és O(n^2). És a dir, aquest tros de codi té una complexitat quadràtica."
      ]
    },
    {
      "cell_type": "code",
      "metadata": {
        "id": "mbLp067Uci0F"
      },
      "source": [
        ""
      ],
      "execution_count": null,
      "outputs": []
    },
    {
      "cell_type": "markdown",
      "metadata": {
        "id": "hSWua-88z_B_"
      },
      "source": [
        "### <span class=\"exercici\">Exercici 2. Quin ordre de complexitat segons la notació  𝑂()  tenen els algorismes que fan el següent nombre d'operacions?</span>\n",
        "\n",
        "+ $n + 2n$\n",
        "+ $3 n^2 + log n$\n",
        "+ $2^n + n^5$\n",
        "+ 3 sumes + 2 multiplicacions (amb nombres llargs)"
      ]
    },
    {
      "cell_type": "markdown",
      "metadata": {
        "id": "IbRQC0UYz_CA"
      },
      "source": [
        "### <span class=\"exercici\">Exercici 3. Amb $n=50$ té sentit un algorisme d'$O(n!)$? Per què?</span>"
      ]
    },
    {
      "cell_type": "markdown",
      "metadata": {
        "id": "UvBzvgJez_CA"
      },
      "source": [
        "### Complexitat de les operacions més habituals de Python\n",
        "\n",
        "L'assignació d'un valor a una variable (que s'implementa mitjançant la còpia d'una referència) és `O(1)`. \n",
        "\n",
        "Els operadors simples (`+`, `*`, etc.) sobre enters petits (menors de 12 dígits) són `O(1)`.\n",
        "\n",
        "Els operadors sobre col·leccions de dades de longitud `N`, `N = len(data-type)` són:\n",
        "\n",
        "#### Lists:\n",
        "                               \n",
        "Operació      | Exemple      | Complexitat     | Notes\n",
        "--------------|--------------|---------------|-------------------------------\n",
        "Index         | l[i]         | O(1)\t     |\n",
        "Store         | l[i] = 0     | O(1)\t     |\n",
        "Length        | len(l)       | O(1)\t     |\n",
        "Append        | l.append(5)  | O(1)\t     |\n",
        "Pop\t          | l.pop()      | O(1)\t     | equivalent a l.pop(-1)\n",
        "Clear         | l.clear()    | O(1)\t     | equivalent a l = []\n",
        "Slice         | l[a:b]       | O(b-a)\t | O(len(l)-0)=O(N)\n",
        "check ==, !=  | l1 == l2     | O(N)      |\n",
        "Insert        | l[a:b] = ... | O(N)\t     |\n",
        "Delete        | del l[i]     | O(N)\t     | \n",
        "Containment   | x in/not in l| O(N)\t     | cerca a la llista\n",
        "Copy          | l.copy()     | O(N)\t     | equivalent a l[:] que és O(N)\n",
        "Remove        | l.remove(...)| O(N)\t     | \n",
        "Pop\t          | l.pop(i)     | O(N)\t     | \n",
        "Extreme value | min(l)/max(l)| O(N)\t     | cerca a la llista\n",
        "Reverse\t      | l.reverse()  | O(N)\t     |\n",
        "Iteration     | for v in l:  | O(N)          |\n",
        "Sort          | l.sort()     | O(N Log N)    | \n",
        "\n",
        "#### Sets (encara que no els estudiarem explícitament, afegim aquí les complexitats)\n",
        "\n",
        "Operació      | Exemple      | Complexitat     | Notes\n",
        "--------------|--------------|---------------|-------------------------------\n",
        "Length        | len(s)       | O(1)\t     |\n",
        "Add           | s.add(5)     | O(1)\t     |\n",
        "Containment   | x in/not in s| O(1)\t     | \n",
        "Remove        | s.remove(..) | O(1)\t     | \n",
        "Discard       | s.discard(..)| O(1)\t     | \n",
        "Pop           | s.pop()      | O(1)\t     |\n",
        "Clear         | s.clear()    | O(1)\t     | equivalent a s = set()\n",
        "check ==, !=  | s != t       | O(len(s))     | \n",
        "<=/<          | s <= t       | O(len(s))     | issubset\n",
        "\\>=/>         | s >= t       | O(len(t))     | issuperset \n",
        "Union         | s l t        | O(len(s)+len(t)) |\n",
        "Intersection  | s & t        | O(len(s)+len(t)) |\n",
        "Difference    | s - t        | O(len(s)+len(t)) |\n",
        "Symmetric Diff| s ^ t        | O(len(s)+len(t)) |\n",
        "Iteration     | for v in s:  | O(N)          |\n",
        "Copy          | s.copy()     | O(N)\t     |\n",
        "\n",
        "#### Dictionaries\n",
        "                             \n",
        "Operació      | Exemple      | Complexitat     | Notes\n",
        "--------------|--------------|---------------|-------------------------------\n",
        "Index         | d[k]         | O(1)      |\n",
        "Store         | d[k] = v     | O(1)      |\n",
        "Length        | len(d)       | O(1)      |\n",
        "Delete        | del d[k]     | O(1)      |\n",
        "get/setdefault| d.method     | O(1)      |\n",
        "Pop           | d.pop(k)     | O(1)      |\n",
        "Pop item      | d.popitem()  | O(1)      |\n",
        "Clear         | d.clear()    | O(1)      | equivalent a s = {} o = dict()\n",
        "View          | d.keys()     | O(1)      | el mateix que d.values()\n",
        "Iteration     | for k in d:  | O(N)      | totes les formes: keys, values, items"
      ]
    },
    {
      "cell_type": "code",
      "metadata": {
        "id": "dXQvEd3ez_CB"
      },
      "source": [
        "# Exemple 1 de càlcul de complexitat\n",
        "\n",
        "def funcio1(n):\n",
        "    for i in range(n): # Executem un cop aquest for\n",
        "        print(i)       # Executem n vegades aquesta instrucció"
      ],
      "execution_count": null,
      "outputs": []
    },
    {
      "cell_type": "markdown",
      "metadata": {
        "id": "SP7iec8Xz_CB"
      },
      "source": [
        "funcio1:  $O(n)$"
      ]
    },
    {
      "cell_type": "code",
      "metadata": {
        "id": "_6beXidTz_CB",
        "outputId": "1acca464-b67e-4b83-8181-b0b0c19009f4"
      },
      "source": [
        "# Exemple 2 de càlcul de complexitat\n",
        "\n",
        "def funcio2(n,m):\n",
        "    for i in range(1,n*n,2): # Aquest for s'executa de 1 fins a n*n amb passos de 2 en 2\n",
        "        for j in range(m*m, 0, -1): # Aquest s'executa m*m vegades\n",
        "                                    # Com que un depèn de l'altre, per a cada valor 'i' executem m*m operacions\n",
        "                                    # i, per tant, el total serà la multiplicació dels dos valors\n",
        "                    \n",
        "            print (\"(\"+str(i)+\",\"+str(j)+\")\", end=\" \")\n",
        "        print()\n",
        "        \n",
        "funcio2(4,3)  "
      ],
      "execution_count": null,
      "outputs": [
        {
          "name": "stdout",
          "output_type": "stream",
          "text": [
            "(1,9) (1,8) (1,7) (1,6) (1,5) (1,4) (1,3) (1,2) (1,1) \n",
            "(3,9) (3,8) (3,7) (3,6) (3,5) (3,4) (3,3) (3,2) (3,1) \n",
            "(5,9) (5,8) (5,7) (5,6) (5,5) (5,4) (5,3) (5,2) (5,1) \n",
            "(7,9) (7,8) (7,7) (7,6) (7,5) (7,4) (7,3) (7,2) (7,1) \n",
            "(9,9) (9,8) (9,7) (9,6) (9,5) (9,4) (9,3) (9,2) (9,1) \n",
            "(11,9) (11,8) (11,7) (11,6) (11,5) (11,4) (11,3) (11,2) (11,1) \n",
            "(13,9) (13,8) (13,7) (13,6) (13,5) (13,4) (13,3) (13,2) (13,1) \n",
            "(15,9) (15,8) (15,7) (15,6) (15,5) (15,4) (15,3) (15,2) (15,1) \n"
          ]
        }
      ]
    },
    {
      "cell_type": "markdown",
      "metadata": {
        "id": "KCGcJMl8z_CC"
      },
      "source": [
        "funcio2: $ O(\\dfrac{n^2}{2}m^2)=O(n^2m^2) $"
      ]
    },
    {
      "cell_type": "code",
      "metadata": {
        "id": "fxkEshbCz_CC",
        "colab": {
          "base_uri": "https://localhost:8080/"
        },
        "outputId": "e3678adc-0436-4227-cc9b-dba0d6bad837"
      },
      "source": [
        "# Exemple 3 de càlcul de complexitat\n",
        "\n",
        "# Aquest programa substitueix per True si hi ha coincidència amb el número donat o False en els atres casos\n",
        "\n",
        "def funcio3(llista, numero): # suposem n=len(llista)\n",
        "    \n",
        "    if numero in llista:              # n operacions\n",
        "        for it in range(len(llista)): # n operacions\n",
        "            if llista[it]==numero:    # Els accessos i assignacions són 1 sola operació\n",
        "                llista[it] = True\n",
        "            else:\n",
        "                llista[it] = False\n",
        "        return llista\n",
        "        \n",
        "    else:\n",
        "        return [False]*len(llista)    # n operacions\n",
        "\n",
        "# En aquest cas fem n+n operacions ja que, tot i estar una posició identat cap a la dreta, la comprovació\n",
        "# inicial només es fa un cop.\n",
        "\n",
        "# Tan si entra a la condició 'numero in llista' com si no hi entra, es faran n operacions més.\n",
        "    \n",
        "llista = [1,2,5,-6,3,-8,7,-9,5,8,5]\n",
        "funcio3(llista, 5)"
      ],
      "execution_count": null,
      "outputs": [
        {
          "output_type": "execute_result",
          "data": {
            "text/plain": [
              "[False, False, True, False, False, False, False, False, True, False, True]"
            ]
          },
          "metadata": {},
          "execution_count": 6
        }
      ]
    },
    {
      "cell_type": "markdown",
      "metadata": {
        "id": "-SQpheLJz_CD"
      },
      "source": [
        "funcio3: $ O(n+n)=O(2n)=O(n) $"
      ]
    },
    {
      "cell_type": "code",
      "metadata": {
        "id": "nbS77uq5z_CD",
        "outputId": "c3f20f9f-aed0-449e-a191-e9d5382c86f6"
      },
      "source": [
        "# Exemple 4 de càlcul de complexitat\n",
        "\n",
        "def funcio4(num):                     # Per abreujar, n=num\n",
        "    llista = [0] * num                  # inicialitzar val n\n",
        "    suma = 0 \n",
        "    for i in range(1, len(llista)+1):  # Aquest for executarà la part interna n vegades \n",
        "        llista.insert(i, i)            # Insertar val n (veure collections.ipynb)\n",
        "        suma += llista[i - 1] + llista[i]  # 2 accessos i una suma = 3 operacions\n",
        "    \n",
        "    print(llista, suma)               # Imprimir una llista val n i imprimir un enter, 1\n",
        "        \n",
        "        \n",
        "# Notem que per a cada valor de 'i' fem un insert. Per tant es multiplicarà n*(n+3) \n",
        "# ja que n+3 és la part de dins del 'for'\n",
        "\n",
        "funcio4(10)"
      ],
      "execution_count": null,
      "outputs": [
        {
          "name": "stdout",
          "output_type": "stream",
          "text": [
            "[0, 1, 2, 3, 4, 5, 6, 7, 8, 9, 10, 0, 0, 0, 0, 0, 0, 0, 0, 0] 100\n"
          ]
        }
      ]
    },
    {
      "cell_type": "markdown",
      "metadata": {
        "id": "GNOGKhwLz_CD"
      },
      "source": [
        "funcio3: $ O\\Big(n + n(n+3)+(n+1)\\Big)=O(n+n^2 +n)=O(n^2 +2n) = O(n^2 +n) $ o també $O(n^2)$"
      ]
    },
    {
      "cell_type": "markdown",
      "metadata": {
        "id": "Uvs8QLPGz_CD"
      },
      "source": [
        "### <span class=\"exercici\">Exercici 5. Calcula la complexitat d'aquestes dues funcions:</span>\n",
        "\n",
        "```python\n",
        "def nums1a5():\n",
        "    a = 1            \n",
        "    while (a < 5):\n",
        "        print(a)\n",
        "        a += 1 \n",
        "```\n",
        " \n",
        "```python\n",
        "def nums1a10():\n",
        "    for i in range(0, 10): # valor inicial:0 \n",
        "                       # valor final: 10 [quan hi arriba surt, no itera]\n",
        "                       # increment: no s'indica, per defecte és 1\n",
        "    print(i)\n",
        "```    \n",
        "Tens alguna observació?"
      ]
    },
    {
      "cell_type": "markdown",
      "metadata": {
        "id": "Efdrs8eLz_CE"
      },
      "source": [
        "## Algorismes ordenació i cerca\n",
        "Incloem també en aquest notebook els principals algorismes d'ordenació i cerca vistos a teoria amb indicació de la seva complexitat"
      ]
    },
    {
      "cell_type": "markdown",
      "metadata": {
        "id": "_8mpM37Bz_CE"
      },
      "source": [
        "### Mergesort, de complexitat O(n log n)"
      ]
    },
    {
      "cell_type": "code",
      "metadata": {
        "id": "Ei89U2lIz_CE"
      },
      "source": [
        "def merge(left, right):\n",
        "    \"\"\"\n",
        "    Aquesta funció fusiona dues llistes ordenades amb una de nova, també ordenada\n",
        "    \"\"\"\n",
        "    result = []\n",
        "    i, j = 0, 0\n",
        "    while(i < len(left) and j < len(right)):\n",
        "        if (left[i] <= right[j]):\n",
        "            result.append(left[i])\n",
        "            i = i + 1\n",
        "        else:\n",
        "            result.append(right[j])\n",
        "            j = j + 1\n",
        "\n",
        "    result += left[i:]\n",
        "    result += right[j:]\n",
        "    return result"
      ],
      "execution_count": null,
      "outputs": []
    },
    {
      "cell_type": "code",
      "metadata": {
        "id": "Wife1ZTmz_CE"
      },
      "source": [
        "def mergesort(list):\n",
        "    \"\"\"\n",
        "    Aquesta funció va partint la llista en una banda dreta i una esquerra\n",
        "    fins que aquestes bandes tenen un element\n",
        "    quan ho aconsegueix, crida merge per fusionar ambdues bandes de \n",
        "    manera ordenada\n",
        "    fins arribar a fusionar la llista completa original.\n",
        "    \"\"\"\n",
        "    if len(list) < 2:\n",
        "        return list\n",
        "    else:\n",
        "        middle = len(list) // 2\n",
        "        left = mergesort(list[:middle])\n",
        "        right = mergesort(list[middle:])\n",
        "        return merge(left, right)"
      ],
      "execution_count": null,
      "outputs": []
    },
    {
      "cell_type": "code",
      "metadata": {
        "id": "_wXlucBAz_CF",
        "outputId": "4ed9c06d-ae2f-435d-c260-4d2838f63c81"
      },
      "source": [
        "mergesort([9,8,4,2,7,-4,3])"
      ],
      "execution_count": null,
      "outputs": [
        {
          "data": {
            "text/plain": [
              "[-4, 2, 3, 4, 7, 8, 9]"
            ]
          },
          "execution_count": 9,
          "metadata": {},
          "output_type": "execute_result"
        }
      ]
    },
    {
      "cell_type": "markdown",
      "metadata": {
        "id": "uhE6yfucz_CF"
      },
      "source": [
        "### Quicksort, de complexitat O(n log n)"
      ]
    },
    {
      "cell_type": "code",
      "metadata": {
        "id": "QBMAjEq2z_CF"
      },
      "source": [
        "def partition(A, first, last):\n",
        "    \"\"\"\n",
        "    Aquesta funció tria el valor mig entre l'element inicial, final i mig \n",
        "    d'una llista i l'ubica al lloc que li correspondrà quan la llista està \n",
        "    ordenada, alhora deixa a la seva esquerra valors menors i a la dreta\n",
        "    valors majors. Per tant altera A\n",
        "    A més retorna la posició de la partició\n",
        "    \"\"\"\n",
        "    mid = (first + last) // 2  #ordenem A[first],A[mid],A[last]\n",
        "    if A[first] > A [mid]: A[first], A[mid] = A[mid], A[first]\n",
        "    if A[first] > A [last]: A[first], A[last] = A[last], A[first]\n",
        "    if A[mid] > A[last]:   A[mid], A[last] = A[last], A[mid]  \n",
        "    A[mid], A[first] = A[first], A[mid] #valor mig a l’inici\n",
        "    pivot = first\n",
        "    i = first + 1\n",
        "    j = last\n",
        "  \n",
        "    while True:\n",
        "        while i <= last and A[i] <= A[pivot]: i += 1\n",
        "        while j >= first and A[j] > A[pivot]: j -= 1\n",
        "        if i >= j: break\n",
        "        else:\n",
        "            A[i], A[j] = A[j], A[i] #intercanviem, fem avançar i j\n",
        "    A[j], A[pivot] = A[pivot], A[j] #vector partit, pivot=j\n",
        "    return j"
      ],
      "execution_count": null,
      "outputs": []
    },
    {
      "cell_type": "code",
      "metadata": {
        "id": "bXAMRcyAz_CF"
      },
      "source": [
        "def quick_sort(A):\n",
        "    quick_sort_r(A, 0, len(A) - 1)\n",
        "\n",
        "def quick_sort_r(A , first, last):\n",
        "    if last > first:\n",
        "        pivot = partition(A, first, last)\n",
        "        quick_sort_r(A, first, pivot - 1)\n",
        "        quick_sort_r(A, pivot + 1, last)"
      ],
      "execution_count": null,
      "outputs": []
    },
    {
      "cell_type": "code",
      "metadata": {
        "id": "F7w0nqRFz_CG",
        "outputId": "ab53ca6f-7b37-4f9d-feb5-2667d6ae4294"
      },
      "source": [
        "A = [9, 8, 4, 2, 7, -4, 3]\n",
        "quick_sort(A)\n",
        "print(A)"
      ],
      "execution_count": null,
      "outputs": [
        {
          "name": "stdout",
          "output_type": "stream",
          "text": [
            "[-4, 2, 3, 4, 7, 8, 9]\n"
          ]
        }
      ]
    },
    {
      "cell_type": "markdown",
      "metadata": {
        "id": "nfp_-qsmz_CG"
      },
      "source": [
        "### Cerca lineal, de complexitat O(n)"
      ]
    },
    {
      "cell_type": "code",
      "metadata": {
        "id": "hrTvqtNNz_CG"
      },
      "source": [
        "def search(x,nums):\n",
        "    nums.append(x)\n",
        "    i = 0\n",
        "    while nums[i] != x:\n",
        "        i += 1\n",
        "    if i < len(nums) - 1: \n",
        "        return i\n",
        "    else: \n",
        "        return -1"
      ],
      "execution_count": null,
      "outputs": []
    },
    {
      "cell_type": "code",
      "metadata": {
        "id": "XdWoBjUwz_CG",
        "outputId": "7c595be4-850b-4c8d-cc17-c16c4bc17263"
      },
      "source": [
        "search(10, [9, 8, 4, 2, 7, -4, 3])"
      ],
      "execution_count": null,
      "outputs": [
        {
          "data": {
            "text/plain": [
              "-1"
            ]
          },
          "execution_count": 14,
          "metadata": {},
          "output_type": "execute_result"
        }
      ]
    },
    {
      "cell_type": "markdown",
      "metadata": {
        "id": "gaMi-pv0z_CG"
      },
      "source": [
        "### Cerca binària, de complexitat O(logn)"
      ]
    },
    {
      "cell_type": "code",
      "metadata": {
        "id": "UmR-S6NJz_CH"
      },
      "source": [
        "def binsearch(x,nums):\n",
        "    recbinsearch(x,nums,0,len(nums)-1)\n",
        "    \n",
        "    \n",
        "def recbinsearch(x, nums, low, high):\n",
        "    # low, high defineixen els limits de la llista\n",
        "    # on buscar, així no cal crear noves llistes\n",
        "    if low>high: \n",
        "        return -1\n",
        "    mid = (low + high) // 2    \n",
        "    items = nums[mid]   \n",
        "    if items == x:\n",
        "        print(mid)\n",
        "    elif x < items:\n",
        "        return recbinsearch(x, nums, low, mid-1)\n",
        "    else: \n",
        "        return recbinsearch(x, nums, mid+1, high)"
      ],
      "execution_count": null,
      "outputs": []
    },
    {
      "cell_type": "code",
      "metadata": {
        "id": "7KDeGjyYz_CH",
        "outputId": "c841e737-3f80-4f5d-a2c6-854412f0992a"
      },
      "source": [
        "binsearch(5, [1, 2, 3, 4, 5, 6, 7])"
      ],
      "execution_count": null,
      "outputs": [
        {
          "name": "stdout",
          "output_type": "stream",
          "text": [
            "4\n"
          ]
        }
      ]
    }
  ]
}